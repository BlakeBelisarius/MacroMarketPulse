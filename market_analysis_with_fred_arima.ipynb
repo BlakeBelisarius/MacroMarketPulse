{
 "cells": [
  {
   "cell_type": "markdown",
   "metadata": {},
   "source": [
    "# Financial Market Analysis: SPY Price Prediction Using Macroeconomic Indicators and ARIMA\n",
    "\n",
    "This notebook explores the relationship between the SPY (S&P 500 ETF) stock price and key macroeconomic indicators such as unemployment rate, interest rates, and inflation. We will:\n",
    "- Fetch stock price data for SPY from Yahoo Finance.\n",
    "- Fetch unemployment data from the Bureau of Labor Statistics (via the FRED API).\n",
    "- Simulate additional macroeconomic indicators (interest rates and inflation).\n",
    "- Visualize the relationship between stock price and macroeconomic factors.\n",
    "- Use the ARIMA model to forecast future stock prices based on historical data.\n",
    "\n",
    "This analysis can be extended to include real interest rates and inflation data from FRED, or other sources of macroeconomic information.  \n",
    "\n",
    "---\n"
   ]
  },
  {
   "cell_type": "code",
   "execution_count": 1,
   "metadata": {},
   "outputs": [],
   "source": [
    "import yfinance as yf\n",
    "import pandas as pd\n",
    "import matplotlib.pyplot as plt\n",
    "import seaborn as sns\n",
    "from fredapi import Fred\n",
    "from statsmodels.tsa.arima.model import ARIMA\n",
    "from sklearn.metrics import mean_squared_error\n",
    "\n",
    "# Set your FRED API Key (replace with your actual key)\n",
    "FRED_API_KEY = 'Your API KEY'  # Replace this with your FRED API key - go to https://fredaccount.stlouisfed.org, then sign up for an account and request your API key\n",
    "# NB: it is a bad idea to post any of your API keys publically, use best practices for storing API Keys in Github repositories instead\n",
    "fred = Fred(api_key=FRED_API_KEY)"
   ]
  },
  {
   "cell_type": "markdown",
   "metadata": {},
   "source": [
    "### Download SPY Stock Data\n",
    "We will use Yahoo Finance to download daily stock price data for SPY (S&P 500 ETF) over the period from January 2020 to January 2024.\n"
   ]
  },
  {
   "cell_type": "code",
   "execution_count": 8,
   "metadata": {},
   "outputs": [
    {
     "data": {
      "text/html": [
       "<div>\n",
       "<style scoped>\n",
       "    .dataframe tbody tr th:only-of-type {\n",
       "        vertical-align: middle;\n",
       "    }\n",
       "\n",
       "    .dataframe tbody tr th {\n",
       "        vertical-align: top;\n",
       "    }\n",
       "\n",
       "    .dataframe thead th {\n",
       "        text-align: right;\n",
       "    }\n",
       "</style>\n",
       "<table border=\"1\" class=\"dataframe\">\n",
       "  <thead>\n",
       "    <tr style=\"text-align: right;\">\n",
       "      <th></th>\n",
       "      <th>Open</th>\n",
       "      <th>High</th>\n",
       "      <th>Low</th>\n",
       "      <th>Close</th>\n",
       "      <th>Volume</th>\n",
       "      <th>Dividends</th>\n",
       "      <th>Stock Splits</th>\n",
       "      <th>Capital Gains</th>\n",
       "    </tr>\n",
       "    <tr>\n",
       "      <th>Date</th>\n",
       "      <th></th>\n",
       "      <th></th>\n",
       "      <th></th>\n",
       "      <th></th>\n",
       "      <th></th>\n",
       "      <th></th>\n",
       "      <th></th>\n",
       "      <th></th>\n",
       "    </tr>\n",
       "  </thead>\n",
       "  <tbody>\n",
       "    <tr>\n",
       "      <th>2020-09-28 00:00:00-04:00</th>\n",
       "      <td>314.424647</td>\n",
       "      <td>316.066493</td>\n",
       "      <td>313.414994</td>\n",
       "      <td>315.339935</td>\n",
       "      <td>64584600</td>\n",
       "      <td>0.0</td>\n",
       "      <td>0.0</td>\n",
       "      <td>0.0</td>\n",
       "    </tr>\n",
       "    <tr>\n",
       "      <th>2020-09-29 00:00:00-04:00</th>\n",
       "      <td>315.132285</td>\n",
       "      <td>315.887149</td>\n",
       "      <td>312.914832</td>\n",
       "      <td>313.622528</td>\n",
       "      <td>51304000</td>\n",
       "      <td>0.0</td>\n",
       "      <td>0.0</td>\n",
       "      <td>0.0</td>\n",
       "    </tr>\n",
       "    <tr>\n",
       "      <th>2020-09-30 00:00:00-04:00</th>\n",
       "      <td>314.301940</td>\n",
       "      <td>319.208643</td>\n",
       "      <td>314.103793</td>\n",
       "      <td>316.000427</td>\n",
       "      <td>104081100</td>\n",
       "      <td>0.0</td>\n",
       "      <td>0.0</td>\n",
       "      <td>0.0</td>\n",
       "    </tr>\n",
       "    <tr>\n",
       "      <th>2020-10-01 00:00:00-04:00</th>\n",
       "      <td>318.642506</td>\n",
       "      <td>319.633269</td>\n",
       "      <td>316.113679</td>\n",
       "      <td>318.029175</td>\n",
       "      <td>88698700</td>\n",
       "      <td>0.0</td>\n",
       "      <td>0.0</td>\n",
       "      <td>0.0</td>\n",
       "    </tr>\n",
       "    <tr>\n",
       "      <th>2020-10-02 00:00:00-04:00</th>\n",
       "      <td>312.990457</td>\n",
       "      <td>318.000944</td>\n",
       "      <td>312.509214</td>\n",
       "      <td>315.009735</td>\n",
       "      <td>89431100</td>\n",
       "      <td>0.0</td>\n",
       "      <td>0.0</td>\n",
       "      <td>0.0</td>\n",
       "    </tr>\n",
       "  </tbody>\n",
       "</table>\n",
       "</div>"
      ],
      "text/plain": [
       "                                 Open        High         Low       Close  \\\n",
       "Date                                                                        \n",
       "2020-09-28 00:00:00-04:00  314.424647  316.066493  313.414994  315.339935   \n",
       "2020-09-29 00:00:00-04:00  315.132285  315.887149  312.914832  313.622528   \n",
       "2020-09-30 00:00:00-04:00  314.301940  319.208643  314.103793  316.000427   \n",
       "2020-10-01 00:00:00-04:00  318.642506  319.633269  316.113679  318.029175   \n",
       "2020-10-02 00:00:00-04:00  312.990457  318.000944  312.509214  315.009735   \n",
       "\n",
       "                              Volume  Dividends  Stock Splits  Capital Gains  \n",
       "Date                                                                          \n",
       "2020-09-28 00:00:00-04:00   64584600        0.0           0.0            0.0  \n",
       "2020-09-29 00:00:00-04:00   51304000        0.0           0.0            0.0  \n",
       "2020-09-30 00:00:00-04:00  104081100        0.0           0.0            0.0  \n",
       "2020-10-01 00:00:00-04:00   88698700        0.0           0.0            0.0  \n",
       "2020-10-02 00:00:00-04:00   89431100        0.0           0.0            0.0  "
      ]
     },
     "execution_count": 8,
     "metadata": {},
     "output_type": "execute_result"
    }
   ],
   "source": [
    "def download_stock_data(ticker, start_date, end_date):\n",
    "    stock = yf.Ticker(ticker)\n",
    "    stock_data = stock.history(start=start_date, end=end_date)\n",
    "    return stock_data\n",
    "\n",
    "# Parameters\n",
    "ticker = 'SPY'\n",
    "start_date = '2020-09-27'\n",
    "end_date = '2024-09-27'\n",
    "\n",
    "# Download SPY stock data\n",
    "stock_data = download_stock_data(ticker, start_date, end_date)\n",
    "stock_data.head()\n"
   ]
  },
  {
   "cell_type": "markdown",
   "metadata": {},
   "source": [
    "### Download Unemployment Rate Data from FRED\n",
    "The unemployment rate data will be fetched from FRED (Federal Reserve Economic Data) using the `fredapi` package. We will limit the data to the same time frame as the stock data.\n"
   ]
  },
  {
   "cell_type": "code",
   "execution_count": 9,
   "metadata": {},
   "outputs": [
    {
     "data": {
      "text/html": [
       "<div>\n",
       "<style scoped>\n",
       "    .dataframe tbody tr th:only-of-type {\n",
       "        vertical-align: middle;\n",
       "    }\n",
       "\n",
       "    .dataframe tbody tr th {\n",
       "        vertical-align: top;\n",
       "    }\n",
       "\n",
       "    .dataframe thead th {\n",
       "        text-align: right;\n",
       "    }\n",
       "</style>\n",
       "<table border=\"1\" class=\"dataframe\">\n",
       "  <thead>\n",
       "    <tr style=\"text-align: right;\">\n",
       "      <th></th>\n",
       "      <th>unemployment_rate</th>\n",
       "    </tr>\n",
       "  </thead>\n",
       "  <tbody>\n",
       "    <tr>\n",
       "      <th>2023-11-01</th>\n",
       "      <td>3.7</td>\n",
       "    </tr>\n",
       "    <tr>\n",
       "      <th>2023-12-01</th>\n",
       "      <td>3.7</td>\n",
       "    </tr>\n",
       "    <tr>\n",
       "      <th>2024-01-01</th>\n",
       "      <td>3.7</td>\n",
       "    </tr>\n",
       "    <tr>\n",
       "      <th>2024-02-01</th>\n",
       "      <td>3.9</td>\n",
       "    </tr>\n",
       "    <tr>\n",
       "      <th>2024-03-01</th>\n",
       "      <td>3.8</td>\n",
       "    </tr>\n",
       "    <tr>\n",
       "      <th>2024-04-01</th>\n",
       "      <td>3.9</td>\n",
       "    </tr>\n",
       "    <tr>\n",
       "      <th>2024-05-01</th>\n",
       "      <td>4.0</td>\n",
       "    </tr>\n",
       "    <tr>\n",
       "      <th>2024-06-01</th>\n",
       "      <td>4.1</td>\n",
       "    </tr>\n",
       "    <tr>\n",
       "      <th>2024-07-01</th>\n",
       "      <td>4.3</td>\n",
       "    </tr>\n",
       "    <tr>\n",
       "      <th>2024-08-01</th>\n",
       "      <td>4.2</td>\n",
       "    </tr>\n",
       "  </tbody>\n",
       "</table>\n",
       "</div>"
      ],
      "text/plain": [
       "            unemployment_rate\n",
       "2023-11-01                3.7\n",
       "2023-12-01                3.7\n",
       "2024-01-01                3.7\n",
       "2024-02-01                3.9\n",
       "2024-03-01                3.8\n",
       "2024-04-01                3.9\n",
       "2024-05-01                4.0\n",
       "2024-06-01                4.1\n",
       "2024-07-01                4.3\n",
       "2024-08-01                4.2"
      ]
     },
     "execution_count": 9,
     "metadata": {},
     "output_type": "execute_result"
    }
   ],
   "source": [
    "# Set your valid FRED API Key (replace with your actual key)\n",
    "FRED_API_KEY = '9fa08a80b2356aa126ed2254c6bb9e8c '  # Replace this with your FRED API key - go to https://fredaccount.stlouisfed.org, then sign up for an account and request your API key\n",
    "# NB: it is a bad idea to post any of your API keys publically, use best practices for storing API Keys in Github repositories instead\n",
    "\n",
    "fred = Fred(api_key=FRED_API_KEY)\n",
    "\n",
    "def download_unemployment_data():\n",
    "    unemployment_data = fred.get_series('UNRATE', observation_start='2020-09-27', observation_end='2024-09-27')\n",
    "    unemployment_data = pd.DataFrame(unemployment_data, columns=['unemployment_rate'])\n",
    "    unemployment_data.index = pd.to_datetime(unemployment_data.index)\n",
    "    return unemployment_data\n",
    "\n",
    "# Download unemployment data from FRED\n",
    "unemployment_data = download_unemployment_data()\n",
    "unemployment_data.tail(10)\n",
    "\n"
   ]
  },
  {
   "cell_type": "code",
   "execution_count": 12,
   "metadata": {},
   "outputs": [
    {
     "data": {
      "text/html": [
       "<div>\n",
       "<style scoped>\n",
       "    .dataframe tbody tr th:only-of-type {\n",
       "        vertical-align: middle;\n",
       "    }\n",
       "\n",
       "    .dataframe tbody tr th {\n",
       "        vertical-align: top;\n",
       "    }\n",
       "\n",
       "    .dataframe thead th {\n",
       "        text-align: right;\n",
       "    }\n",
       "</style>\n",
       "<table border=\"1\" class=\"dataframe\">\n",
       "  <thead>\n",
       "    <tr style=\"text-align: right;\">\n",
       "      <th></th>\n",
       "      <th>unemployment_rate</th>\n",
       "    </tr>\n",
       "  </thead>\n",
       "  <tbody>\n",
       "    <tr>\n",
       "      <th>2023-11-01</th>\n",
       "      <td>3.7</td>\n",
       "    </tr>\n",
       "    <tr>\n",
       "      <th>2023-12-01</th>\n",
       "      <td>3.7</td>\n",
       "    </tr>\n",
       "    <tr>\n",
       "      <th>2024-01-01</th>\n",
       "      <td>3.7</td>\n",
       "    </tr>\n",
       "    <tr>\n",
       "      <th>2024-02-01</th>\n",
       "      <td>3.9</td>\n",
       "    </tr>\n",
       "    <tr>\n",
       "      <th>2024-03-01</th>\n",
       "      <td>3.8</td>\n",
       "    </tr>\n",
       "    <tr>\n",
       "      <th>2024-04-01</th>\n",
       "      <td>3.9</td>\n",
       "    </tr>\n",
       "    <tr>\n",
       "      <th>2024-05-01</th>\n",
       "      <td>4.0</td>\n",
       "    </tr>\n",
       "    <tr>\n",
       "      <th>2024-06-01</th>\n",
       "      <td>4.1</td>\n",
       "    </tr>\n",
       "    <tr>\n",
       "      <th>2024-07-01</th>\n",
       "      <td>4.3</td>\n",
       "    </tr>\n",
       "    <tr>\n",
       "      <th>2024-08-01</th>\n",
       "      <td>4.2</td>\n",
       "    </tr>\n",
       "  </tbody>\n",
       "</table>\n",
       "</div>"
      ],
      "text/plain": [
       "            unemployment_rate\n",
       "2023-11-01                3.7\n",
       "2023-12-01                3.7\n",
       "2024-01-01                3.7\n",
       "2024-02-01                3.9\n",
       "2024-03-01                3.8\n",
       "2024-04-01                3.9\n",
       "2024-05-01                4.0\n",
       "2024-06-01                4.1\n",
       "2024-07-01                4.3\n",
       "2024-08-01                4.2"
      ]
     },
     "execution_count": 12,
     "metadata": {},
     "output_type": "execute_result"
    }
   ],
   "source": [
    "def download_unemployment_data():\n",
    "    unemployment_data = fred.get_series('UNRATE', observation_start='2020-09-27', observation_end='2024-09-27')\n",
    "    unemployment_data = pd.DataFrame(unemployment_data, columns=['unemployment_rate'])\n",
    "    unemployment_data.index = pd.to_datetime(unemployment_data.index)\n",
    "    return unemployment_data\n",
    "\n",
    "# Download unemployment data from FRED\n",
    "unemployment_data = download_unemployment_data()\n",
    "unemployment_data.tail(10)\n"
   ]
  },
  {
   "cell_type": "markdown",
   "metadata": {},
   "source": [
    "### Generate Simulated Macroeconomic Data\n",
    "We simulate additional macroeconomic data such as interest rates and inflation for the purpose of this analysis. These could be replaced with real data from other sources like FRED.\n"
   ]
  },
  {
   "cell_type": "code",
   "execution_count": 14,
   "metadata": {},
   "outputs": [
    {
     "data": {
      "text/html": [
       "<div>\n",
       "<style scoped>\n",
       "    .dataframe tbody tr th:only-of-type {\n",
       "        vertical-align: middle;\n",
       "    }\n",
       "\n",
       "    .dataframe tbody tr th {\n",
       "        vertical-align: top;\n",
       "    }\n",
       "\n",
       "    .dataframe thead th {\n",
       "        text-align: right;\n",
       "    }\n",
       "</style>\n",
       "<table border=\"1\" class=\"dataframe\">\n",
       "  <thead>\n",
       "    <tr style=\"text-align: right;\">\n",
       "      <th></th>\n",
       "      <th>interest_rate</th>\n",
       "      <th>inflation</th>\n",
       "    </tr>\n",
       "  </thead>\n",
       "  <tbody>\n",
       "    <tr>\n",
       "      <th>2020-09-30</th>\n",
       "      <td>2.0</td>\n",
       "      <td>1.5</td>\n",
       "    </tr>\n",
       "    <tr>\n",
       "      <th>2020-10-31</th>\n",
       "      <td>2.1</td>\n",
       "      <td>1.6</td>\n",
       "    </tr>\n",
       "    <tr>\n",
       "      <th>2020-11-30</th>\n",
       "      <td>2.2</td>\n",
       "      <td>1.7</td>\n",
       "    </tr>\n",
       "    <tr>\n",
       "      <th>2020-12-31</th>\n",
       "      <td>2.3</td>\n",
       "      <td>1.8</td>\n",
       "    </tr>\n",
       "    <tr>\n",
       "      <th>2021-01-31</th>\n",
       "      <td>2.4</td>\n",
       "      <td>1.9</td>\n",
       "    </tr>\n",
       "  </tbody>\n",
       "</table>\n",
       "</div>"
      ],
      "text/plain": [
       "            interest_rate  inflation\n",
       "2020-09-30            2.0        1.5\n",
       "2020-10-31            2.1        1.6\n",
       "2020-11-30            2.2        1.7\n",
       "2020-12-31            2.3        1.8\n",
       "2021-01-31            2.4        1.9"
      ]
     },
     "execution_count": 14,
     "metadata": {},
     "output_type": "execute_result"
    }
   ],
   "source": [
    "def download_macro_data():\n",
    "    dates = pd.date_range('2020-09-27', '2024-09-27', freq='ME')\n",
    "    macro_data = pd.DataFrame(index=dates)\n",
    "    macro_data['interest_rate'] = [2 + (i % 10) / 10 for i in range(len(dates))]  # Simulated interest rate\n",
    "    macro_data['inflation'] = [1.5 + (i % 5) / 10 for i in range(len(dates))]  # Simulated inflation\n",
    "    return macro_data\n",
    "\n",
    "# Download simulated macroeconomic data\n",
    "macro_data = download_macro_data()\n",
    "macro_data.head()\n"
   ]
  },
  {
   "cell_type": "markdown",
   "metadata": {},
   "source": [
    "### Merge Stock Data, Macroeconomic Data, and Unemployment Rate\n",
    "We will now merge the stock data, unemployment data, and simulated macroeconomic indicators into a single DataFrame, resampling the stock data to monthly values for easier comparison.\n"
   ]
  },
  {
   "cell_type": "code",
   "execution_count": 22,
   "metadata": {},
   "outputs": [
    {
     "name": "stdout",
     "output_type": "stream",
     "text": [
      "Stock Data Index Range: 2020-09-28 00:00:00 to 2024-09-26 00:00:00\n",
      "Macro Data Index Range: 2020-09-30 00:00:00 to 2024-08-31 00:00:00\n",
      "Unemployment Data Index Range: 2020-09-01 00:00:00 to 2024-08-01 00:00:00\n"
     ]
    }
   ],
   "source": [
    "print(\"Stock Data Index Range:\", stock_data.index.min(), \"to\", stock_data.index.max())\n",
    "print(\"Macro Data Index Range:\", macro_data.index.min(), \"to\", macro_data.index.max())\n",
    "print(\"Unemployment Data Index Range:\", unemployment_data.index.min(), \"to\", unemployment_data.index.max())\n"
   ]
  },
  {
   "cell_type": "code",
   "execution_count": null,
   "metadata": {},
   "outputs": [],
   "source": [
    "print(stock_data.index.tz)  # If it prints None, it's tz-naive"
   ]
  },
  {
   "cell_type": "code",
   "execution_count": 24,
   "metadata": {},
   "outputs": [],
   "source": [
    "# Aligning Data by findding the common range among them\n",
    "merged_data = pd.merge(stock_data, macro_data, left_index=True, right_index=True, how='outer')\n",
    "merged_data = pd.merge(merged_data, unemployment_data, left_index=True, right_index=True, how='outer')"
   ]
  },
  {
   "cell_type": "code",
   "execution_count": 28,
   "metadata": {},
   "outputs": [],
   "source": [
    "# Drop Missing Values (typically you'd try all other options, but in this case we will drop)\n",
    "merged_data.dropna(inplace=True)  # Remove rows with any NaN values\n"
   ]
  },
  {
   "cell_type": "code",
   "execution_count": 30,
   "metadata": {},
   "outputs": [
    {
     "name": "stdout",
     "output_type": "stream",
     "text": [
      "                  Open        High         Low       Close        Volume  \\\n",
      "2024-04-30  507.656465  509.692718  503.879362  506.385384  7.240791e+07   \n",
      "2024-05-01         NaN         NaN         NaN         NaN           NaN   \n",
      "2024-05-31  518.775922  520.733132  516.748240  519.148117  5.242111e+07   \n",
      "2024-06-01         NaN         NaN         NaN         NaN           NaN   \n",
      "2024-06-30  536.929581  539.120503  534.973843  537.665858  4.678543e+07   \n",
      "2024-07-01         NaN         NaN         NaN         NaN           NaN   \n",
      "2024-07-31  550.744800  553.334584  548.065747  550.330164  4.720298e+07   \n",
      "2024-08-01         NaN         NaN         NaN         NaN           NaN   \n",
      "2024-08-31  544.537935  548.239312  540.933080  544.880518  5.657268e+07   \n",
      "2024-09-30  558.921830  561.218318  555.059151  558.415877  5.218906e+07   \n",
      "\n",
      "            Dividends  Stock Splits  Capital Gains  interest_rate  inflation  \\\n",
      "2024-04-30   0.000000           0.0            0.0            2.3        1.8   \n",
      "2024-05-01        NaN           NaN            NaN            NaN        NaN   \n",
      "2024-05-31   0.000000           0.0            0.0            2.4        1.9   \n",
      "2024-06-01        NaN           NaN            NaN            NaN        NaN   \n",
      "2024-06-30   0.092579           0.0            0.0            2.5        1.5   \n",
      "2024-07-01        NaN           NaN            NaN            NaN        NaN   \n",
      "2024-07-31   0.000000           0.0            0.0            2.6        1.6   \n",
      "2024-08-01        NaN           NaN            NaN            NaN        NaN   \n",
      "2024-08-31   0.000000           0.0            0.0            2.7        1.7   \n",
      "2024-09-30   0.097000           0.0            0.0            NaN        NaN   \n",
      "\n",
      "            unemployment_rate  \n",
      "2024-04-30                NaN  \n",
      "2024-05-01                4.0  \n",
      "2024-05-31                NaN  \n",
      "2024-06-01                4.1  \n",
      "2024-06-30                NaN  \n",
      "2024-07-01                4.3  \n",
      "2024-07-31                NaN  \n",
      "2024-08-01                4.2  \n",
      "2024-08-31                NaN  \n",
      "2024-09-30                NaN  \n"
     ]
    },
    {
     "name": "stderr",
     "output_type": "stream",
     "text": [
      "C:\\Users\\blake\\AppData\\Local\\Temp\\ipykernel_47256\\1420934815.py:8: FutureWarning: 'M' is deprecated and will be removed in a future version, please use 'ME' instead.\n",
      "  stock_data_resampled = stock_data.resample('M').mean()\n"
     ]
    }
   ],
   "source": [
    "def merge_data(stock_data, macro_data, unemployment_data):\n",
    "    # Convert all DatetimeIndexes to timezone-naive if necessary\n",
    "    stock_data.index = stock_data.index.tz_localize(None)\n",
    "    macro_data.index = macro_data.index.tz_localize(None)\n",
    "    unemployment_data.index = unemployment_data.index.tz_localize(None)\n",
    "\n",
    "    # Resample stock data to monthly averages\n",
    "    stock_data_resampled = stock_data.resample('M').mean()\n",
    "\n",
    "    # Merge stock data with macroeconomic and unemployment data (outer join to keep all data)\n",
    "    merged_data = pd.merge(stock_data_resampled, macro_data, left_index=True, right_index=True, how='outer')\n",
    "    merged_data = pd.merge(merged_data, unemployment_data, left_index=True, right_index=True, how='outer')\n",
    "\n",
    "    return merged_data\n",
    "\n",
    "# Merge all data\n",
    "merged_data = merge_data(stock_data, macro_data, unemployment_data)\n",
    "print(merged_data.tail(10))"
   ]
  },
  {
   "cell_type": "code",
   "execution_count": 31,
   "metadata": {},
   "outputs": [
    {
     "name": "stdout",
     "output_type": "stream",
     "text": [
      "None\n"
     ]
    }
   ],
   "source": [
    "print(stock_data.index.tz)  # If it prints None, it's tz-naive"
   ]
  }
 ],
 "metadata": {
  "kernelspec": {
   "display_name": "Python 3",
   "language": "python",
   "name": "python3"
  },
  "language_info": {
   "codemirror_mode": {
    "name": "ipython",
    "version": 3
   },
   "file_extension": ".py",
   "mimetype": "text/x-python",
   "name": "python",
   "nbconvert_exporter": "python",
   "pygments_lexer": "ipython3",
   "version": "3.10.11"
  }
 },
 "nbformat": 4,
 "nbformat_minor": 2
}
